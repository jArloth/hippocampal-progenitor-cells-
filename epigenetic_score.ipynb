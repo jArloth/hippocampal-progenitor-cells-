{
 "cells": [
  {
   "cell_type": "markdown",
   "metadata": {},
   "source": [
    "# Epigenetic score\n",
    "A penalised regression model with the human Dex residuals as the outcome and the 496 cross-tissue CpGs as predictors was run using the glmnet package in R. "
   ]
  },
  {
   "cell_type": "code",
   "execution_count": 5,
   "metadata": {},
   "outputs": [
    {
     "name": "stderr",
     "output_type": "stream",
     "text": [
      "corrplot 0.84 loaded\n"
     ]
    }
   ],
   "source": [
    "library(glmnet)\n",
    "library(corrplot)"
   ]
  },
  {
   "cell_type": "code",
   "execution_count": 3,
   "metadata": {},
   "outputs": [],
   "source": [
    "# human methylation data of MPIP cohort with dex residualized by sex, case/control status, age, bmi and cell counts.\n",
    "data <- readRDS(\"data/DNAm_of_overlapping_hpc_and_human.Rds\")"
   ]
  },
  {
   "cell_type": "code",
   "execution_count": 4,
   "metadata": {},
   "outputs": [],
   "source": [
    "# determine EN alpha\n",
    "\n",
    "#corrrelation strengh c(x)\n",
    "meth = data[,-grep(\"residuals.dex.human\", colnames(data))]\n",
    "cor_mat=cor(meth[,-c(dim(meth)[2]-1,dim(meth)[2])])\n",
    "#get upper triangle matrix\n",
    "tmp=cor_mat\n",
    "tmp[row(cor_mat)>col(cor_mat)] = 0\n",
    "diag(tmp) = 0\n",
    "#Frobenius norm \n",
    "Fnorm = norm(tmp, type=\"F\") #sqrt( sum(tmp^2))\n",
    "c = Fnorm / sqrt( (dim(cor_mat)[1]^2-dim(cor_mat)[1]) / 2)\n",
    "# get alpha\n",
    "alpha= 10^(-c) #0.2761701"
   ]
  },
  {
   "cell_type": "code",
   "execution_count": null,
   "metadata": {},
   "outputs": [],
   "source": [
    "# The penalised regression model was run 100 times and the best-fit lambda values were extracted. \n",
    "write.table(cbind(\"lambda.min\",\"lambda.1se\" ), file=\"data/lambda_selection_100_elastic_long.txt\", quote = F,sep=\"\\t\", col.names = F, row.names = F)\n",
    "for(i in 1:100){\n",
    "  x= as.matrix(na.omit(data)[,-grep(\"residuals.dex.human\", colnames(data))]) #exlude residuals\n",
    "  y=na.omit(data$residuals.dex.human)\n",
    "  alpha_value=alpha #is the lasso penalty,\n",
    "  cvfit = cv.glmnet(x, y, alpha = alpha_value, standardize = T )\n",
    "  write.table(cbind(cvfit$lambda.min,cvfit$lambda.1se ), file=\"data/lambda_selection_100_elastic_long.txt\", append = T, quote = F,sep=\"\\t\", col.names = F, row.names = F)\n",
    "}  "
   ]
  },
  {
   "cell_type": "code",
   "execution_count": null,
   "metadata": {},
   "outputs": [],
   "source": [
    "# Default settings for the cross-validation glmnet model were considered: 10-fold cross validation and avg. lambda from the 100 runs to give the optimal solution.\n",
    "lambda = read.delim(\"data/lambda_selection_100_elastic_long.txt\", head=T)\n",
    "cvfit = cv.glmnet(x, y, alpha = alpha, standardize = T )\n",
    "coef.fit=coef(cvfit, s=mean(lambda$lambda.1se))\n",
    "index.fit <- which(coef.fit[,1] !=0) \n",
    "variables<-row.names(coef.fit)[index.fit]\n",
    "variables<-variables[ !(variables %in% '(Intercept)')]\n",
    "coef.value<-coef.fit[index.fit,]\n",
    "#write.table(coef.value[-1], \"data/EpiScore_Cpgs_n24.txt\", row.names = T,quote = F,col.names = F)\n"
   ]
  }
 ],
 "metadata": {
  "kernelspec": {
   "display_name": "R",
   "language": "R",
   "name": "ir"
  },
  "language_info": {
   "codemirror_mode": "r",
   "file_extension": ".r",
   "mimetype": "text/x-r-source",
   "name": "R",
   "pygments_lexer": "r",
   "version": "3.6.1"
  }
 },
 "nbformat": 4,
 "nbformat_minor": 2
}
