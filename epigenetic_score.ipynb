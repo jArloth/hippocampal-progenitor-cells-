{
 "cells": [
  {
   "cell_type": "markdown",
   "metadata": {},
   "source": [
    "# Epigenetic score\n",
    "A penalised regression model with the human Dex residuals as the outcome and the 496 cross-tissue CpGs as predictors was run using the glmnet package in R. "
   ]
  },
  {
   "cell_type": "code",
   "execution_count": 1,
   "metadata": {},
   "outputs": [
    {
     "name": "stderr",
     "output_type": "stream",
     "text": [
      "Loading required package: Matrix\n",
      "Loaded glmnet 3.0\n",
      "\n",
      "corrplot 0.84 loaded\n"
     ]
    }
   ],
   "source": [
    "library(glmnet)\n",
    "library(corrplot)"
   ]
  },
  {
   "cell_type": "code",
   "execution_count": 4,
   "metadata": {},
   "outputs": [
    {
     "data": {
      "text/html": [
       "<table>\n",
       "<caption>A data.frame: 10 × 5</caption>\n",
       "<thead>\n",
       "\t<tr><th scope=col>cg17001566</th><th scope=col>cg26786407</th><th scope=col>cg23370548</th><th scope=col>cg23987789</th><th scope=col>cg21774136</th></tr>\n",
       "\t<tr><th scope=col>&lt;dbl&gt;</th><th scope=col>&lt;dbl&gt;</th><th scope=col>&lt;dbl&gt;</th><th scope=col>&lt;dbl&gt;</th><th scope=col>&lt;dbl&gt;</th></tr>\n",
       "</thead>\n",
       "<tbody>\n",
       "\t<tr><td>0.2175461</td><td>0.6984534</td><td>0.6878971</td><td>0.1397572</td><td>0.5187689</td></tr>\n",
       "\t<tr><td>0.2507799</td><td>0.7036661</td><td>0.6863872</td><td>0.1530025</td><td>0.5416056</td></tr>\n",
       "\t<tr><td>0.1632386</td><td>0.6433354</td><td>0.6373376</td><td>0.1374984</td><td>0.4258133</td></tr>\n",
       "\t<tr><td>0.1138560</td><td>0.6895280</td><td>0.7174286</td><td>0.1244146</td><td>0.4514850</td></tr>\n",
       "\t<tr><td>0.2506501</td><td>0.6054890</td><td>0.6623528</td><td>0.2008409</td><td>0.4481249</td></tr>\n",
       "\t<tr><td>0.2011912</td><td>0.6591903</td><td>0.6722256</td><td>0.1399751</td><td>0.5245547</td></tr>\n",
       "\t<tr><td>0.2944039</td><td>0.6334535</td><td>0.6791212</td><td>0.1955723</td><td>0.4883494</td></tr>\n",
       "\t<tr><td>0.2741708</td><td>0.6517067</td><td>0.6500248</td><td>0.2073143</td><td>0.4897958</td></tr>\n",
       "\t<tr><td>0.3621200</td><td>0.7008398</td><td>0.7288209</td><td>0.1652263</td><td>0.5595763</td></tr>\n",
       "\t<tr><td>0.3599131</td><td>0.6061946</td><td>0.6683899</td><td>0.1956003</td><td>0.4946424</td></tr>\n",
       "</tbody>\n",
       "</table>\n"
      ],
      "text/latex": [
       "A data.frame: 10 × 5\n",
       "\\begin{tabular}{r|lllll}\n",
       " cg17001566 & cg26786407 & cg23370548 & cg23987789 & cg21774136\\\\\n",
       " <dbl> & <dbl> & <dbl> & <dbl> & <dbl>\\\\\n",
       "\\hline\n",
       "\t 0.2175461 & 0.6984534 & 0.6878971 & 0.1397572 & 0.5187689\\\\\n",
       "\t 0.2507799 & 0.7036661 & 0.6863872 & 0.1530025 & 0.5416056\\\\\n",
       "\t 0.1632386 & 0.6433354 & 0.6373376 & 0.1374984 & 0.4258133\\\\\n",
       "\t 0.1138560 & 0.6895280 & 0.7174286 & 0.1244146 & 0.4514850\\\\\n",
       "\t 0.2506501 & 0.6054890 & 0.6623528 & 0.2008409 & 0.4481249\\\\\n",
       "\t 0.2011912 & 0.6591903 & 0.6722256 & 0.1399751 & 0.5245547\\\\\n",
       "\t 0.2944039 & 0.6334535 & 0.6791212 & 0.1955723 & 0.4883494\\\\\n",
       "\t 0.2741708 & 0.6517067 & 0.6500248 & 0.2073143 & 0.4897958\\\\\n",
       "\t 0.3621200 & 0.7008398 & 0.7288209 & 0.1652263 & 0.5595763\\\\\n",
       "\t 0.3599131 & 0.6061946 & 0.6683899 & 0.1956003 & 0.4946424\\\\\n",
       "\\end{tabular}\n"
      ],
      "text/markdown": [
       "\n",
       "A data.frame: 10 × 5\n",
       "\n",
       "| cg17001566 &lt;dbl&gt; | cg26786407 &lt;dbl&gt; | cg23370548 &lt;dbl&gt; | cg23987789 &lt;dbl&gt; | cg21774136 &lt;dbl&gt; |\n",
       "|---|---|---|---|---|\n",
       "| 0.2175461 | 0.6984534 | 0.6878971 | 0.1397572 | 0.5187689 |\n",
       "| 0.2507799 | 0.7036661 | 0.6863872 | 0.1530025 | 0.5416056 |\n",
       "| 0.1632386 | 0.6433354 | 0.6373376 | 0.1374984 | 0.4258133 |\n",
       "| 0.1138560 | 0.6895280 | 0.7174286 | 0.1244146 | 0.4514850 |\n",
       "| 0.2506501 | 0.6054890 | 0.6623528 | 0.2008409 | 0.4481249 |\n",
       "| 0.2011912 | 0.6591903 | 0.6722256 | 0.1399751 | 0.5245547 |\n",
       "| 0.2944039 | 0.6334535 | 0.6791212 | 0.1955723 | 0.4883494 |\n",
       "| 0.2741708 | 0.6517067 | 0.6500248 | 0.2073143 | 0.4897958 |\n",
       "| 0.3621200 | 0.7008398 | 0.7288209 | 0.1652263 | 0.5595763 |\n",
       "| 0.3599131 | 0.6061946 | 0.6683899 | 0.1956003 | 0.4946424 |\n",
       "\n"
      ],
      "text/plain": [
       "   cg17001566 cg26786407 cg23370548 cg23987789 cg21774136\n",
       "1  0.2175461  0.6984534  0.6878971  0.1397572  0.5187689 \n",
       "2  0.2507799  0.7036661  0.6863872  0.1530025  0.5416056 \n",
       "3  0.1632386  0.6433354  0.6373376  0.1374984  0.4258133 \n",
       "4  0.1138560  0.6895280  0.7174286  0.1244146  0.4514850 \n",
       "5  0.2506501  0.6054890  0.6623528  0.2008409  0.4481249 \n",
       "6  0.2011912  0.6591903  0.6722256  0.1399751  0.5245547 \n",
       "7  0.2944039  0.6334535  0.6791212  0.1955723  0.4883494 \n",
       "8  0.2741708  0.6517067  0.6500248  0.2073143  0.4897958 \n",
       "9  0.3621200  0.7008398  0.7288209  0.1652263  0.5595763 \n",
       "10 0.3599131  0.6061946  0.6683899  0.1956003  0.4946424 "
      ]
     },
     "metadata": {},
     "output_type": "display_data"
    }
   ],
   "source": [
    "# human methylation data of MPIP cohort with dex residualized by sex, case/control status, age, bmi and cell counts.\n",
    "data <- readRDS(\"data/DNAm_of_overlapping_hpc_and_human.Rds\")\n",
    "data[1:10,1:5]"
   ]
  },
  {
   "cell_type": "code",
   "execution_count": 6,
   "metadata": {},
   "outputs": [
    {
     "data": {
      "text/html": [
       "0.276170101856399"
      ],
      "text/latex": [
       "0.276170101856399"
      ],
      "text/markdown": [
       "0.276170101856399"
      ],
      "text/plain": [
       "[1] 0.2761701"
      ]
     },
     "metadata": {},
     "output_type": "display_data"
    }
   ],
   "source": [
    "# determine EN alpha\n",
    "\n",
    "#corrrelation strengh c(x)\n",
    "meth = data[,-grep(\"residuals.dex.human\", colnames(data))]\n",
    "cor_mat=cor(meth[,-c(dim(meth)[2]-1,dim(meth)[2])])\n",
    "#get upper triangle matrix\n",
    "tmp=cor_mat\n",
    "tmp[row(cor_mat)>col(cor_mat)] = 0\n",
    "diag(tmp) = 0\n",
    "#Frobenius norm \n",
    "Fnorm = norm(tmp, type=\"F\")\n",
    "c = Fnorm / sqrt( (dim(cor_mat)[1]^2-dim(cor_mat)[1]) / 2)\n",
    "# get alpha\n",
    "alpha= 10^(-c)\n",
    "alpha"
   ]
  },
  {
   "cell_type": "code",
   "execution_count": 7,
   "metadata": {},
   "outputs": [],
   "source": [
    "# The penalised regression model was run 100 times and the best-fit lambda values were extracted. \n",
    "write.table(cbind(\"lambda.min\",\"lambda.1se\" ), file=\"data/lambda_selection_100_elastic_long.txt\", quote = F,sep=\"\\t\", col.names = F, row.names = F)\n",
    "for(i in 1:100){\n",
    "  x= as.matrix(na.omit(data)[,-grep(\"residuals.dex.human\", colnames(data))]) #exlude residuals\n",
    "  y=na.omit(data$residuals.dex.human)\n",
    "  alpha_value=alpha #is the lasso penalty,\n",
    "  cvfit = cv.glmnet(x, y, alpha = alpha_value, standardize = T )\n",
    "  write.table(cbind(cvfit$lambda.min,cvfit$lambda.1se ), file=\"data/lambda_selection_100_elastic_long.txt\", append = T, quote = F,sep=\"\\t\", col.names = F, row.names = F)\n",
    "}  "
   ]
  },
  {
   "cell_type": "code",
   "execution_count": 10,
   "metadata": {},
   "outputs": [
    {
     "data": {
      "text/html": [
       "<dl class=dl-horizontal>\n",
       "\t<dt>cg02862467</dt>\n",
       "\t\t<dd>-0.165623312204328</dd>\n",
       "\t<dt>cg02927682</dt>\n",
       "\t\t<dd>-0.108305161593142</dd>\n",
       "\t<dt>cg07052737</dt>\n",
       "\t\t<dd>-0.0849292489788806</dd>\n",
       "\t<dt>cg01400750</dt>\n",
       "\t\t<dd>-0.460991377755171</dd>\n",
       "\t<dt>cg03637218</dt>\n",
       "\t\t<dd>-0.0806560926393014</dd>\n",
       "\t<dt>cg16141752</dt>\n",
       "\t\t<dd>-0.262948270059272</dd>\n",
       "\t<dt>cg11671363</dt>\n",
       "\t\t<dd>-0.269960338280741</dd>\n",
       "\t<dt>cg20977312</dt>\n",
       "\t\t<dd>-0.175183210000692</dd>\n",
       "\t<dt>cg09571972</dt>\n",
       "\t\t<dd>-0.104389445313988</dd>\n",
       "\t<dt>cg16312968</dt>\n",
       "\t\t<dd>-0.431250409236019</dd>\n",
       "\t<dt>cg13718827</dt>\n",
       "\t\t<dd>-0.675091746624442</dd>\n",
       "\t<dt>cg11316887</dt>\n",
       "\t\t<dd>0.00216795014556099</dd>\n",
       "\t<dt>cg21344746</dt>\n",
       "\t\t<dd>-0.215960187862173</dd>\n",
       "\t<dt>cg13581015</dt>\n",
       "\t\t<dd>-0.0312503736352</dd>\n",
       "\t<dt>cg24850296</dt>\n",
       "\t\t<dd>-0.0603223845477132</dd>\n",
       "\t<dt>cg18020065</dt>\n",
       "\t\t<dd>-0.010992177843697</dd>\n",
       "\t<dt>cg04958055</dt>\n",
       "\t\t<dd>-0.371285124532726</dd>\n",
       "\t<dt>cg12157761</dt>\n",
       "\t\t<dd>-0.259598139560587</dd>\n",
       "\t<dt>cg03543954</dt>\n",
       "\t\t<dd>-0.103462545061357</dd>\n",
       "\t<dt>cg08297985</dt>\n",
       "\t\t<dd>-0.195981667523667</dd>\n",
       "\t<dt>cg04674060</dt>\n",
       "\t\t<dd>0.389974414006566</dd>\n",
       "\t<dt>cg23987336</dt>\n",
       "\t\t<dd>-0.192186786381438</dd>\n",
       "\t<dt>cg07830557</dt>\n",
       "\t\t<dd>-0.0551205908677706</dd>\n",
       "\t<dt>cg19118951</dt>\n",
       "\t\t<dd>-0.00469454368922703</dd>\n",
       "</dl>\n"
      ],
      "text/latex": [
       "\\begin{description*}\n",
       "\\item[cg02862467] -0.165623312204328\n",
       "\\item[cg02927682] -0.108305161593142\n",
       "\\item[cg07052737] -0.0849292489788806\n",
       "\\item[cg01400750] -0.460991377755171\n",
       "\\item[cg03637218] -0.0806560926393014\n",
       "\\item[cg16141752] -0.262948270059272\n",
       "\\item[cg11671363] -0.269960338280741\n",
       "\\item[cg20977312] -0.175183210000692\n",
       "\\item[cg09571972] -0.104389445313988\n",
       "\\item[cg16312968] -0.431250409236019\n",
       "\\item[cg13718827] -0.675091746624442\n",
       "\\item[cg11316887] 0.00216795014556099\n",
       "\\item[cg21344746] -0.215960187862173\n",
       "\\item[cg13581015] -0.0312503736352\n",
       "\\item[cg24850296] -0.0603223845477132\n",
       "\\item[cg18020065] -0.010992177843697\n",
       "\\item[cg04958055] -0.371285124532726\n",
       "\\item[cg12157761] -0.259598139560587\n",
       "\\item[cg03543954] -0.103462545061357\n",
       "\\item[cg08297985] -0.195981667523667\n",
       "\\item[cg04674060] 0.389974414006566\n",
       "\\item[cg23987336] -0.192186786381438\n",
       "\\item[cg07830557] -0.0551205908677706\n",
       "\\item[cg19118951] -0.00469454368922703\n",
       "\\end{description*}\n"
      ],
      "text/markdown": [
       "cg02862467\n",
       ":   -0.165623312204328cg02927682\n",
       ":   -0.108305161593142cg07052737\n",
       ":   -0.0849292489788806cg01400750\n",
       ":   -0.460991377755171cg03637218\n",
       ":   -0.0806560926393014cg16141752\n",
       ":   -0.262948270059272cg11671363\n",
       ":   -0.269960338280741cg20977312\n",
       ":   -0.175183210000692cg09571972\n",
       ":   -0.104389445313988cg16312968\n",
       ":   -0.431250409236019cg13718827\n",
       ":   -0.675091746624442cg11316887\n",
       ":   0.00216795014556099cg21344746\n",
       ":   -0.215960187862173cg13581015\n",
       ":   -0.0312503736352cg24850296\n",
       ":   -0.0603223845477132cg18020065\n",
       ":   -0.010992177843697cg04958055\n",
       ":   -0.371285124532726cg12157761\n",
       ":   -0.259598139560587cg03543954\n",
       ":   -0.103462545061357cg08297985\n",
       ":   -0.195981667523667cg04674060\n",
       ":   0.389974414006566cg23987336\n",
       ":   -0.192186786381438cg07830557\n",
       ":   -0.0551205908677706cg19118951\n",
       ":   -0.00469454368922703\n",
       "\n"
      ],
      "text/plain": [
       "  cg02862467   cg02927682   cg07052737   cg01400750   cg03637218   cg16141752 \n",
       "-0.165623312 -0.108305162 -0.084929249 -0.460991378 -0.080656093 -0.262948270 \n",
       "  cg11671363   cg20977312   cg09571972   cg16312968   cg13718827   cg11316887 \n",
       "-0.269960338 -0.175183210 -0.104389445 -0.431250409 -0.675091747  0.002167950 \n",
       "  cg21344746   cg13581015   cg24850296   cg18020065   cg04958055   cg12157761 \n",
       "-0.215960188 -0.031250374 -0.060322385 -0.010992178 -0.371285125 -0.259598140 \n",
       "  cg03543954   cg08297985   cg04674060   cg23987336   cg07830557   cg19118951 \n",
       "-0.103462545 -0.195981668  0.389974414 -0.192186786 -0.055120591 -0.004694544 "
      ]
     },
     "metadata": {},
     "output_type": "display_data"
    }
   ],
   "source": [
    "# Default settings for the cross-validation glmnet model were considered: 10-fold cross validation and avg. lambda from the 100 runs to give the optimal solution.\n",
    "lambda = read.delim(\"data/lambda_selection_100_elastic_long.txt\", head=T)\n",
    "cvfit = cv.glmnet(x, y, alpha = alpha, standardize = T )\n",
    "coef.fit=coef(cvfit, s=mean(lambda$lambda.1se))\n",
    "index.fit <- which(coef.fit[,1] !=0) \n",
    "variables<-row.names(coef.fit)[index.fit]\n",
    "variables<-variables[ !(variables %in% '(Intercept)')]\n",
    "coef.value<-coef.fit[index.fit,]\n",
    "coef.value[-1]\n",
    "#write.table(coef.value[-1], \"data/EpiScore_Cpgs_n24.txt\", row.names = T,quote = F,col.names = F)"
   ]
  }
 ],
 "metadata": {
  "kernelspec": {
   "display_name": "R",
   "language": "R",
   "name": "ir"
  },
  "language_info": {
   "codemirror_mode": "r",
   "file_extension": ".r",
   "mimetype": "text/x-r-source",
   "name": "R",
   "pygments_lexer": "r",
   "version": "3.6.1"
  }
 },
 "nbformat": 4,
 "nbformat_minor": 2
}
